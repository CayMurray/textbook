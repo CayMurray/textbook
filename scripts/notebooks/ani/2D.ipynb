{
 "cells": [
  {
   "cell_type": "code",
   "execution_count": null,
   "metadata": {},
   "outputs": [],
   "source": [
    "## MODULES ##\n",
    "\n",
    "import numpy as np\n",
    "from scipy.integrate import odeint\n",
    "\n",
    "import matplotlib.pyplot as plt\n",
    "\n",
    "from matplotlib.animation import FuncAnimation\n",
    "from IPython.display import HTML"
   ]
  },
  {
   "cell_type": "code",
   "execution_count": null,
   "metadata": {},
   "outputs": [],
   "source": [
    "## FUNCS ##\n",
    "\n",
    "def lorenz(arr,sigma,rho,beta):\n",
    "    x,y,z = arr\n",
    "    xdot = sigma*(y-x)\n",
    "    ydot = x*(rho-z)-y\n",
    "    zdot = x*y-beta*z\n",
    "    return np.array([xdot,ydot,zdot])\n",
    "\n",
    "\n",
    "def visualize(store):\n",
    "    fig,ax = plt.subplots()\n",
    "    ax.plot(store[:,0],store[:,1])\n",
    "    plt.show()\n",
    "    "
   ]
  },
  {
   "cell_type": "code",
   "execution_count": null,
   "metadata": {},
   "outputs": [],
   "source": [
    "## SIM SYSTEM ##\n",
    "\n",
    "sigma,rho,beta = 10,28,8/3\n",
    "x0,y0,z0 = 1,5,20\n",
    "\n",
    "dt = 1e-3\n",
    "T = 10\n",
    "nt = round(T/dt)\n",
    "time = np.linspace(0,T,nt)\n",
    "\n",
    "store = np.zeros((nt,3))\n",
    "store[0,:] = [x0,y0,z0]\n",
    "\n",
    "for t in range(1,nt):\n",
    "    dot = lorenz(store[t-1,:],sigma,rho,beta)\n",
    "    store[t,:] = store[t-1,:] + dt*dot"
   ]
  },
  {
   "cell_type": "code",
   "execution_count": null,
   "metadata": {},
   "outputs": [],
   "source": [
    "## VISUALIZE ##\n",
    "\n",
    "fig,ax = plt.subplots()\n",
    "line, = ax.plot([],[],lw=2)\n",
    "\n",
    "ax.set_xlim(np.min(store[:,0]), np.max(store[:,0]))\n",
    "ax.set_ylim(np.min(store[:,1]), np.max(store[:,1]))\n",
    "\n",
    "def init():\n",
    "    line.set_data([],[])\n",
    "    return line,\n",
    "\n",
    "def update(frame):\n",
    "    idx = frame*(nt//300)\n",
    "    line.set_data(store[:idx,0],store[:idx,1])\n",
    "    return line,\n",
    "\n",
    "ani = FuncAnimation(fig,update,frames=300,interval=1,init_func=init,blit=False)\n",
    "plt.close(fig)\n",
    "HTML(ani.to_jshtml())\n"
   ]
  }
 ],
 "metadata": {
  "kernelspec": {
   "display_name": "comp",
   "language": "python",
   "name": "python3"
  },
  "language_info": {
   "codemirror_mode": {
    "name": "ipython",
    "version": 3
   },
   "file_extension": ".py",
   "mimetype": "text/x-python",
   "name": "python",
   "nbconvert_exporter": "python",
   "pygments_lexer": "ipython3",
   "version": "3.8.20"
  }
 },
 "nbformat": 4,
 "nbformat_minor": 2
}
